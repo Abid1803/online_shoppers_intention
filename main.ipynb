{
 "cells": [
  {
   "cell_type": "code",
   "execution_count": 1,
   "id": "a9f88346",
   "metadata": {},
   "outputs": [],
   "source": [
    "import pandas as pd\n",
    "import numpy as np\n",
    "\n",
    "# Loading the given dataset!! from local drive!\n",
    "path=r\"C:\\Users\\Abid.MD\\Desktop\\Gradious Assignment\\Projects\\Mini Project\\online_shoppers_intention.csv\"\n",
    "df=pd.read_csv(path)"
   ]
  },
  {
   "cell_type": "code",
   "execution_count": 2,
   "id": "c5f275d8",
   "metadata": {},
   "outputs": [
    {
     "name": "stdout",
     "output_type": "stream",
     "text": [
      "Correlation with 'MadePurchase' Target Variable:\n",
      "MadePurchase             1.000000\n",
      "AvgPageValue             0.492569\n",
      "ProductPagesViewed       0.158538\n",
      "ProductPageTime          0.152373\n",
      "AcctPagesViewed          0.138917\n",
      "InfoPagesViewed          0.095200\n",
      "AcctPageTime             0.093587\n",
      "InfoPageTime             0.070345\n",
      "IsWeekendVisit           0.029295\n",
      "UserBrowser              0.023984\n",
      "SourceChannel           -0.005113\n",
      "UserRegion              -0.011595\n",
      "UserOS                  -0.014668\n",
      "ProximityToSpecialDay   -0.082305\n",
      "AvgBounceRate           -0.150673\n",
      "AvgExitRate             -0.207071\n",
      "Name: MadePurchase, dtype: float64\n"
     ]
    }
   ],
   "source": [
    "\"\"\"\n",
    "checking whether given data features have a correlation between target vairable or not!\n",
    "\n",
    "checking correlation between variables to identify the relavent feature\n",
    "\"\"\"\n",
    "correlation_matrix=df.corr(numeric_only=True)\n",
    "target_correlation=correlation_matrix['MadePurchase'].sort_values(ascending=False)\n",
    "print(\"Correlation with 'MadePurchase' Target Variable:\")\n",
    "print(target_correlation)\n"
   ]
  },
  {
   "cell_type": "code",
   "execution_count": 3,
   "id": "31bd3d44",
   "metadata": {},
   "outputs": [],
   "source": [
    "\"\"\"\n",
    "from the correlation values determining which features are irrelevant to the target variable and dropping them!\n",
    "correlation of almost 0 are dropped!\n",
    "\"\"\"\n",
    "df=df.drop(columns=\"SourceChannel\")\n",
    "df = df.dropna()"
   ]
  },
  {
   "cell_type": "code",
   "execution_count": 4,
   "id": "1b54457b",
   "metadata": {},
   "outputs": [],
   "source": [
    "\"\"\"\n",
    "importing standard scaler and label encoder to encode the categorical values \n",
    "\"\"\"\n",
    "from sklearn.preprocessing import StandardScaler\n",
    "scaler = StandardScaler()\n",
    "from sklearn.preprocessing import LabelEncoder\n",
    "le = LabelEncoder()"
   ]
  },
  {
   "cell_type": "code",
   "execution_count": 5,
   "id": "802ae8c8",
   "metadata": {},
   "outputs": [],
   "source": [
    "\"\"\"\n",
    "categorical features present in the given dataset\n",
    "\"\"\"\n",
    "cat=[\"VisitMonth\",\"UserCategory\",\"IsWeekendVisit\",\"MadePurchase\"]\n",
    "\n",
    "\"\"\" instead of applying tthe same scalling or encodeing method to all the categorical features,\n",
    "I am applying different methods based of the features!!\"\"\"\n",
    "\n",
    "\n",
    "\"\"\"\n",
    "for months feature(cyclic feature) i will be using numbers from 1 to 12!!\n",
    "\"\"\"\n",
    "month_map = {\n",
    "    'Jan': 1, 'Feb': 2, 'Mar': 3, 'Apr': 4, 'May': 5, 'June': 6,\n",
    "    'Jul': 7, 'Aug': 8, 'Sep': 9, 'Oct': 10, 'Nov': 11, 'Dec': 12\n",
    "}\n",
    "df['VisitMonth'] = df['VisitMonth'].map(month_map)\n",
    "\n",
    "\"\"\"applying label encoding to other features!!(categorical features)\"\"\"\n",
    "df['UserCategory'] = le.fit_transform(df['UserCategory'])\n",
    "df['IsWeekendVisit'] = df['IsWeekendVisit'].astype(int)\n",
    "df['MadePurchase'] = df['MadePurchase'].astype(int)\n",
    "\n"
   ]
  },
  {
   "cell_type": "code",
   "execution_count": 6,
   "id": "be98980f",
   "metadata": {},
   "outputs": [
    {
     "name": "stdout",
     "output_type": "stream",
     "text": [
      "1908\n"
     ]
    }
   ],
   "source": [
    "\"\"\"\n",
    "importing the train test split method to split the dataset!!\n",
    "\"\"\"\n",
    "from sklearn.model_selection import train_test_split\n",
    "\n",
    "\"\"\"\n",
    "defining the target and features!!\"\"\"\n",
    "X=df.drop(columns=\"MadePurchase\")\n",
    "y=df[\"MadePurchase\"]\n",
    "\n",
    "\n",
    "s=sum(y)\n",
    "print(s)"
   ]
  },
  {
   "cell_type": "code",
   "execution_count": 7,
   "id": "ccfcdef7",
   "metadata": {},
   "outputs": [],
   "source": [
    "\"\"\"\n",
    "sum of target variable is 1043 which means the data is imbalanced!!\n",
    "so I will be using SMOTE to balance the data!!\n",
    "\"\"\"\n",
    "\n",
    "\n",
    "X_train,X_test, y_train, y_test=train_test_split(X,y,random_state=42,test_size=0.2)\n",
    "\n",
    "\"\"\"\n",
    "applying SMOTE to balance the data!!\n",
    "\"\"\"\n",
    "from imblearn.over_sampling import SMOTE\n",
    "smote = SMOTE(random_state=42)\n",
    "X_train, y_train = smote.fit_resample(X_train, y_train)"
   ]
  },
  {
   "cell_type": "code",
   "execution_count": 8,
   "id": "cc59c37d",
   "metadata": {},
   "outputs": [
    {
     "name": "stdout",
     "output_type": "stream",
     "text": [
      "(16734, 16)\n",
      "(2466, 16)\n",
      "(16734,)\n",
      "(2466,)\n"
     ]
    }
   ],
   "source": [
    "\"\"\"\n",
    "verifiying the shapes of the train and test splits!!!\n",
    "\"\"\"\n",
    "print(X_train.shape)\n",
    "print(X_test.shape)\n",
    "print(y_train.shape)\n",
    "print(y_test.shape)"
   ]
  },
  {
   "cell_type": "code",
   "execution_count": 9,
   "id": "ef594b7e",
   "metadata": {},
   "outputs": [
    {
     "name": "stdout",
     "output_type": "stream",
     "text": [
      "Logistic Regression accuracy\n",
      "0.8556366585563666\n"
     ]
    },
    {
     "name": "stderr",
     "output_type": "stream",
     "text": [
      "C:\\Users\\Abid.MD\\AppData\\Local\\Packages\\PythonSoftwareFoundation.Python.3.13_qbz5n2kfra8p0\\LocalCache\\local-packages\\Python313\\site-packages\\sklearn\\linear_model\\_logistic.py:473: ConvergenceWarning: lbfgs failed to converge after 12654 iteration(s) (status=1):\n",
      "STOP: TOTAL NO. OF F,G EVALUATIONS EXCEEDS LIMIT\n",
      "\n",
      "You might also want to scale the data as shown in:\n",
      "    https://scikit-learn.org/stable/modules/preprocessing.html\n",
      "Please also refer to the documentation for alternative solver options:\n",
      "    https://scikit-learn.org/stable/modules/linear_model.html#logistic-regression\n",
      "  n_iter_i = _check_optimize_result(\n"
     ]
    }
   ],
   "source": [
    "\"\"\"\n",
    "applying the  logistic regression model to the given dataset!!\n",
    "\"\"\"\n",
    "from sklearn.metrics import accuracy_score\n",
    "from sklearn.linear_model import LogisticRegression\n",
    "\n",
    "model1=LogisticRegression(max_iter=1000000)\n",
    "model1.fit(X_train,y_train)\n",
    "y_pred=model1.predict(X_test)\n",
    "ac=accuracy_score(y_pred,y_test)\n",
    "print(\"Logistic Regression accuracy\")\n",
    "print(ac)"
   ]
  },
  {
   "cell_type": "code",
   "execution_count": 10,
   "id": "fb66d500",
   "metadata": {},
   "outputs": [
    {
     "name": "stdout",
     "output_type": "stream",
     "text": [
      "Random Forest accuracy\n",
      "0.8872668288726683\n"
     ]
    }
   ],
   "source": [
    "\"\"\"\n",
    "applying Random forest classifier to the given dataset!!\n",
    "\"\"\"\n",
    "from sklearn.ensemble import RandomForestClassifier\n",
    "\n",
    "model2=RandomForestClassifier()\n",
    "model2.fit(X_train,y_train)\n",
    "y2_pred=model2.predict(X_test)\n",
    "# from sklearn.metrics import accuracy_score\n",
    "# print(\"accuracy of Random forest\")\n",
    "ac2=accuracy_score(y2_pred,y_test)\n",
    "print(\"Random Forest accuracy\")\n",
    "print(ac2)"
   ]
  },
  {
   "cell_type": "code",
   "execution_count": 11,
   "id": "04d5fdac",
   "metadata": {},
   "outputs": [
    {
     "name": "stdout",
     "output_type": "stream",
     "text": [
      "accuracy of Gradient Boosting\n",
      "0.8819951338199513\n"
     ]
    }
   ],
   "source": [
    "\"\"\"\n",
    "applying Gradiedt Boosting classifier to the given dataset!!\n",
    "\"\"\"\n",
    "from sklearn.ensemble import GradientBoostingClassifier\n",
    "\n",
    "model3=GradientBoostingClassifier()\n",
    "model3.fit(X_train,y_train)\n",
    "y3_pred=model3.predict(X_test)\n",
    "# from sklearn.metrics import accuracy_score\n",
    "print(\"accuracy of Gradient Boosting\")\n",
    "ac3=accuracy_score(y3_pred,y_test)\n",
    "print(ac3)"
   ]
  },
  {
   "cell_type": "code",
   "execution_count": 12,
   "id": "8dac4c09",
   "metadata": {},
   "outputs": [
    {
     "name": "stdout",
     "output_type": "stream",
     "text": [
      "accuracy of XGBoost\n",
      "0.8803730738037308\n"
     ]
    }
   ],
   "source": [
    "\"\"\"\n",
    "applying XGBoost classifier to the given dataset!!\n",
    "\"\"\"\n",
    "from xgboost import XGBClassifier\n",
    "\n",
    "model4=XGBClassifier()\n",
    "model4.fit(X_train,y_train)\n",
    "y4_pred=model4.predict(X_test)\n",
    "# from sklearn.metrics import accuracy_score\n",
    "print(\"accuracy of XGBoost\")\n",
    "ac4=accuracy_score(y4_pred,y_test)\n",
    "print(ac4)"
   ]
  },
  {
   "cell_type": "code",
   "execution_count": 13,
   "id": "52f4d779",
   "metadata": {},
   "outputs": [
    {
     "name": "stdout",
     "output_type": "stream",
     "text": [
      "Classification Report for Logistic Regression:\n",
      "              precision    recall  f1-score   support\n",
      "\n",
      "           0       0.93      0.89      0.91      2055\n",
      "           1       0.55      0.69      0.61       411\n",
      "\n",
      "    accuracy                           0.86      2466\n",
      "   macro avg       0.74      0.79      0.76      2466\n",
      "weighted avg       0.87      0.86      0.86      2466\n",
      "\n",
      "Classification Report for Random Forest:\n",
      "              precision    recall  f1-score   support\n",
      "\n",
      "           0       0.94      0.92      0.93      2055\n",
      "           1       0.64      0.72      0.68       411\n",
      "\n",
      "    accuracy                           0.89      2466\n",
      "   macro avg       0.79      0.82      0.81      2466\n",
      "weighted avg       0.89      0.89      0.89      2466\n",
      "\n",
      "Classification Report for Gradient Boosting:\n",
      "              precision    recall  f1-score   support\n",
      "\n",
      "           0       0.95      0.91      0.93      2055\n",
      "           1       0.62      0.74      0.68       411\n",
      "\n",
      "    accuracy                           0.88      2466\n",
      "   macro avg       0.78      0.83      0.80      2466\n",
      "weighted avg       0.89      0.88      0.89      2466\n",
      "\n",
      "Classification Report for XGBoost:\n",
      "              precision    recall  f1-score   support\n",
      "\n",
      "           0       0.93      0.93      0.93      2055\n",
      "           1       0.64      0.65      0.64       411\n",
      "\n",
      "    accuracy                           0.88      2466\n",
      "   macro avg       0.78      0.79      0.79      2466\n",
      "weighted avg       0.88      0.88      0.88      2466\n",
      "\n"
     ]
    }
   ],
   "source": [
    "\"\"\"\n",
    "Accuracy, Recall, Precision, F1-Score for all models\"\"\"\n",
    "from sklearn.metrics import classification_report\n",
    "print(\"Classification Report for Logistic Regression:\")\n",
    "print(classification_report(y_test, y_pred))\n",
    "\n",
    "print(\"Classification Report for Random Forest:\")\n",
    "print(classification_report(y_test, y2_pred))\n",
    "\n",
    "print(\"Classification Report for Gradient Boosting:\")\n",
    "print(classification_report(y_test, y3_pred))\n",
    "\n",
    "print(\"Classification Report for XGBoost:\")         \n",
    "print(classification_report(y_test, y4_pred))"
   ]
  },
  {
   "cell_type": "code",
   "execution_count": 14,
   "id": "b3ce6cdf",
   "metadata": {},
   "outputs": [
    {
     "name": "stdout",
     "output_type": "stream",
     "text": [
      "Logistic Regression AUC: 0.8664085578465673\n",
      "Random Forest AUC: 0.9224448114799225\n",
      "Gradient Boosting AUC: 0.9213999443526855\n",
      "XGBoost AUC: 0.9103663842861456\n"
     ]
    },
    {
     "data": {
      "image/png": "[encoded data removed]",
      "text/plain": [
       "<Figure size 700x700 with 1 Axes>"
      ]
     },
     "metadata": {},
     "output_type": "display_data"
    }
   ],
   "source": [
    "\n",
    "\"\"\"\n",
    "ROC curve and AUC for all four models\n",
    "\"\"\"\n",
    "from sklearn.metrics import roc_curve, roc_auc_score\n",
    "import matplotlib.pyplot as plt\n",
    "\n",
    "\"\"\"\n",
    "getting probability of prediction of positive classes for all four models\n",
    "\"\"\"\n",
    "y_prob_log = model1.predict_proba(X_test)[:,1]\n",
    "y_prob_rf  = model2.predict_proba(X_test)[:,1]\n",
    "y_prob_gb  = model3.predict_proba(X_test)[:,1]\n",
    "y_prob_xgb = model4.predict_proba(X_test)[:,1]\n",
    "\n",
    "\"\"\"\n",
    "finding the AUC scores for all four models\n",
    "\"\"\"\n",
    "auc_log=roc_auc_score(y_test, y_prob_log)\n",
    "auc_rf=roc_auc_score(y_test, y_prob_rf)\n",
    "auc_gb=roc_auc_score(y_test, y_prob_gb)\n",
    "auc_xgb=roc_auc_score(y_test, y_prob_xgb)\n",
    "\n",
    "print(\"Logistic Regression AUC:\", auc_log)\n",
    "print(\"Random Forest AUC:\", auc_rf)\n",
    "print(\"Gradient Boosting AUC:\", auc_gb)\n",
    "print(\"XGBoost AUC:\", auc_xgb)\n",
    "\n",
    "\"\"\"\n",
    "plotting the ROC curves for all four models\n",
    "\"\"\"\n",
    "plt.figure(figsize=(7,7))\n",
    "\n",
    "fpr_log, tpr_log, _ = roc_curve(y_test, y_prob_log)\n",
    "fpr_rf, tpr_rf, _   = roc_curve(y_test, y_prob_rf)\n",
    "fpr_gb, tpr_gb, _   = roc_curve(y_test, y_prob_gb)\n",
    "fpr_xgb, tpr_xgb, _ = roc_curve(y_test, y_prob_xgb)\n",
    "\n",
    "plt.plot(fpr_log, tpr_log, label=f\"Logistic Regression (AUC={auc_log:.3f})\")\n",
    "plt.plot(fpr_rf, tpr_rf, label=f\"Random Forest (AUC={auc_rf:.3f})\")\n",
    "plt.plot(fpr_gb, tpr_gb, label=f\"Gradient Boosting (AUC={auc_gb:.3f})\")\n",
    "plt.plot(fpr_xgb, tpr_xgb, label=f\"XGBoost (AUC={auc_xgb:.3f})\")\n",
    "\n",
    "\n",
    "\n",
    "\"\"\"reference line\"\"\"\n",
    "plt.plot([0,1],[0,1],'k--') \n",
    "\n",
    "\n",
    "plt.xlabel(\"False Positive Rate\")\n",
    "plt.ylabel(\"True Positive Rate\")\n",
    "plt.title(\"ROC Curve Comparison\")\n",
    "plt.legend(loc=\"lower right\")\n",
    "plt.show()\n"
   ]
  }
 ],
 "metadata": {
  "kernelspec": {
   "display_name": "Python 3",
   "language": "python",
   "name": "python3"
  },
  "language_info": {
   "codemirror_mode": {
    "name": "ipython",
    "version": 3
   },
   "file_extension": ".py",
   "mimetype": "text/x-python",
   "name": "python",
   "nbconvert_exporter": "python",
   "pygments_lexer": "ipython3",
   "version": "3.13.9"
  }
 },
 "nbformat": 4,
 "nbformat_minor": 5
}
